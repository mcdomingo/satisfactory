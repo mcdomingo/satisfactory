{
 "cells": [
  {
   "cell_type": "code",
   "execution_count": 1,
   "metadata": {},
   "outputs": [],
   "source": [
    "import pandas as pd\n",
    "import math"
   ]
  },
  {
   "cell_type": "markdown",
   "metadata": {},
   "source": [
    "## Data\n",
    "\n",
    "Read in the data.\n",
    "The amount per minute is amount created from a machine single machine in 1 minute."
   ]
  },
  {
   "cell_type": "code",
   "execution_count": 2,
   "metadata": {},
   "outputs": [],
   "source": [
    "recipe_df = pd.read_csv(\"Satisfactory Recipes - parts per minute.csv\", index_col=0)"
   ]
  },
  {
   "cell_type": "code",
   "execution_count": 3,
   "metadata": {},
   "outputs": [
    {
     "data": {
      "text/html": [
       "<div>\n",
       "<style scoped>\n",
       "    .dataframe tbody tr th:only-of-type {\n",
       "        vertical-align: middle;\n",
       "    }\n",
       "\n",
       "    .dataframe tbody tr th {\n",
       "        vertical-align: top;\n",
       "    }\n",
       "\n",
       "    .dataframe thead th {\n",
       "        text-align: right;\n",
       "    }\n",
       "</style>\n",
       "<table border=\"1\" class=\"dataframe\">\n",
       "  <thead>\n",
       "    <tr style=\"text-align: right;\">\n",
       "      <th></th>\n",
       "      <th>Amount Per Minute</th>\n",
       "      <th>Iron Ore</th>\n",
       "      <th>Copper Ore</th>\n",
       "      <th>Caterium Ore</th>\n",
       "      <th>Iron Ingot</th>\n",
       "      <th>Copper Ingot</th>\n",
       "      <th>Caterium Ingot</th>\n",
       "      <th>Wire</th>\n",
       "      <th>Cable</th>\n",
       "      <th>Screw</th>\n",
       "      <th>Quickwire</th>\n",
       "      <th>Crude Oil</th>\n",
       "      <th>Rubber</th>\n",
       "      <th>Plastic</th>\n",
       "      <th>Circuit Board</th>\n",
       "      <th>High-Speed Connecter</th>\n",
       "      <th>A.I. Limiter</th>\n",
       "      <th>Computer</th>\n",
       "    </tr>\n",
       "    <tr>\n",
       "      <th>Item</th>\n",
       "      <th></th>\n",
       "      <th></th>\n",
       "      <th></th>\n",
       "      <th></th>\n",
       "      <th></th>\n",
       "      <th></th>\n",
       "      <th></th>\n",
       "      <th></th>\n",
       "      <th></th>\n",
       "      <th></th>\n",
       "      <th></th>\n",
       "      <th></th>\n",
       "      <th></th>\n",
       "      <th></th>\n",
       "      <th></th>\n",
       "      <th></th>\n",
       "      <th></th>\n",
       "      <th></th>\n",
       "    </tr>\n",
       "  </thead>\n",
       "  <tbody>\n",
       "    <tr>\n",
       "      <th>Quickwire</th>\n",
       "      <td>90.0</td>\n",
       "      <td>NaN</td>\n",
       "      <td>NaN</td>\n",
       "      <td>NaN</td>\n",
       "      <td>NaN</td>\n",
       "      <td>15.0</td>\n",
       "      <td>7.5</td>\n",
       "      <td>NaN</td>\n",
       "      <td>NaN</td>\n",
       "      <td>NaN</td>\n",
       "      <td>NaN</td>\n",
       "      <td>NaN</td>\n",
       "      <td>NaN</td>\n",
       "      <td>NaN</td>\n",
       "      <td>NaN</td>\n",
       "      <td>NaN</td>\n",
       "      <td>NaN</td>\n",
       "      <td>NaN</td>\n",
       "    </tr>\n",
       "    <tr>\n",
       "      <th>Circuit Board</th>\n",
       "      <td>7.5</td>\n",
       "      <td>NaN</td>\n",
       "      <td>NaN</td>\n",
       "      <td>NaN</td>\n",
       "      <td>NaN</td>\n",
       "      <td>NaN</td>\n",
       "      <td>NaN</td>\n",
       "      <td>60.0</td>\n",
       "      <td>NaN</td>\n",
       "      <td>NaN</td>\n",
       "      <td>NaN</td>\n",
       "      <td>NaN</td>\n",
       "      <td>40.0</td>\n",
       "      <td>NaN</td>\n",
       "      <td>NaN</td>\n",
       "      <td>NaN</td>\n",
       "      <td>NaN</td>\n",
       "      <td>NaN</td>\n",
       "    </tr>\n",
       "  </tbody>\n",
       "</table>\n",
       "</div>"
      ],
      "text/plain": [
       "               Amount Per Minute  Iron Ore  Copper Ore  Caterium Ore  \\\n",
       "Item                                                                   \n",
       "Quickwire                   90.0       NaN         NaN           NaN   \n",
       "Circuit Board                7.5       NaN         NaN           NaN   \n",
       "\n",
       "               Iron Ingot  Copper Ingot  Caterium Ingot  Wire  Cable  Screw  \\\n",
       "Item                                                                          \n",
       "Quickwire             NaN          15.0             7.5   NaN    NaN    NaN   \n",
       "Circuit Board         NaN           NaN             NaN  60.0    NaN    NaN   \n",
       "\n",
       "               Quickwire  Crude Oil  Rubber  Plastic  Circuit Board  \\\n",
       "Item                                                                  \n",
       "Quickwire            NaN        NaN     NaN      NaN            NaN   \n",
       "Circuit Board        NaN        NaN    40.0      NaN            NaN   \n",
       "\n",
       "               High-Speed Connecter  A.I. Limiter  Computer  \n",
       "Item                                                         \n",
       "Quickwire                       NaN           NaN       NaN  \n",
       "Circuit Board                   NaN           NaN       NaN  "
      ]
     },
     "execution_count": 3,
     "metadata": {},
     "output_type": "execute_result"
    }
   ],
   "source": [
    "recipe_df.sample(2)"
   ]
  },
  {
   "cell_type": "markdown",
   "metadata": {},
   "source": [
    "### Data Prep\n",
    "\n",
    "Seperate the amount per minute column from everything else and turn it into a dictionary.\n",
    "\n",
    "The key is the item name, the value is a tuple of the (apm, recipe) where the recipe itself is a dict."
   ]
  },
  {
   "cell_type": "code",
   "execution_count": 4,
   "metadata": {},
   "outputs": [],
   "source": [
    "apm = recipe_df[\"Amount Per Minute\"]\n",
    "recipe_no_apm = recipe_df.drop(\"Amount Per Minute\", axis = 1)"
   ]
  },
  {
   "cell_type": "code",
   "execution_count": 5,
   "metadata": {},
   "outputs": [
    {
     "data": {
      "text/plain": [
       "{'Iron Ingot': (30.0, {'Iron Ore': 30.0}),\n",
       " 'Copper Ingot': (30.0, {'Copper Ore': 30.0}),\n",
       " 'Caterium Ingot': (15.0, {'Caterium Ore': 60.0}),\n",
       " 'Wire': (45.0, {'Copper Ingot': 15.0}),\n",
       " 'Cable': (15.0, {'Wire': 30.0}),\n",
       " 'Screw': (90.0, {'Iron Ingot': 15.0}),\n",
       " 'Quickwire': (90.0, {'Copper Ingot': 15.0, 'Caterium Ingot': 7.5}),\n",
       " 'Rubber': (30.0, {'Crude Oil': 30.0}),\n",
       " 'Plastic': (22.5, {'Crude Oil': 30.0}),\n",
       " 'Circuit Board': (7.5, {'Wire': 60.0, 'Rubber': 40.0}),\n",
       " 'A.I. Limiter': (5.0, {'Quickwire': 90.0, 'Circuit Board': 5.0}),\n",
       " 'High-Speed Connecter': (2.5,\n",
       "  {'Cable': 25.0, 'Quickwire': 100.0, 'Plastic': 15.0}),\n",
       " 'Computer': (1.875,\n",
       "  {'Cable': 22.5, 'Screw': 112.5, 'Plastic': 33.75, 'Circuit Board': 9.375}),\n",
       " 'Super Computer': (1.875,\n",
       "  {'Plastic': 39.375,\n",
       "   'High-Speed Connecter': 5.625,\n",
       "   'A.I. Limiter': 3.75,\n",
       "   'Computer': 3.75})}"
      ]
     },
     "execution_count": 5,
     "metadata": {},
     "output_type": "execute_result"
    }
   ],
   "source": [
    "recipes = {item : (apm.loc[item], recipe_no_apm.loc[item].dropna().to_dict()) for item in recipe_no_apm.index}\n",
    "recipes"
   ]
  },
  {
   "cell_type": "markdown",
   "metadata": {},
   "source": [
    "## Conversion\n",
    "\n",
    "The first function is a util function for adding to the usage stats."
   ]
  },
  {
   "cell_type": "code",
   "execution_count": 6,
   "metadata": {},
   "outputs": [],
   "source": [
    "def add_used(used, usage_stats, recipe_apm):\n",
    "    '''\n",
    "    Util function for adding to the usage stats.\n",
    "    \n",
    "    This will not modify the original usage_stats value.\n",
    "    '''\n",
    "    usage_stats = {**usage_stats}\n",
    "    usage_stats[\"used\"] += used\n",
    "    usage_stats[\"buildings\"] = math.ceil(usage_stats[\"used\"] / recipe_apm)\n",
    "    usage_stats[\"gross\"] = usage_stats[\"buildings\"] * recipe_apm\n",
    "    return usage_stats"
   ]
  },
  {
   "cell_type": "markdown",
   "metadata": {},
   "source": [
    "The second function calculates how many secondary reagents are required to make the a certain amount of original item.\n",
    "\n",
    "EG: 45 Wire requires 15 Copper Ingots which in turn requires 15 Copper Ore.\n",
    "So this function will return 45 Wire -> 15 Copper Ore."
   ]
  },
  {
   "cell_type": "code",
   "execution_count": 7,
   "metadata": {},
   "outputs": [],
   "source": [
    "def calc_secondary_reagants(item, recipes, amount, use_ceil = False):\n",
    "    '''\n",
    "    Calculates how many secondary reagents are required to make the a certain amount of original item.\n",
    "    \n",
    "    EG: 45 Wire requires 15 Copper Ingots which in turn requires 15 Copper Ore.\n",
    "        So this function will return 45 Wire -> 15 Copper Ore.\n",
    "    '''\n",
    "    if item not in recipes:\n",
    "        return None\n",
    "    res = {}\n",
    "    apm1, input1 = recipes[item]\n",
    "    conversion_ratio = math.ceil(amount/apm1) if use_ceil else amount/apm1\n",
    "    for reagent, count in input1.items():\n",
    "        if reagent not in recipes:\n",
    "            continue\n",
    "        apm2, _ = recipes[reagent]\n",
    "        usage_stats = res.get(reagent, {\"gross\": 0, \"used\": 0, \"buildings\": 0})\n",
    "        res[reagent] = add_used(input1[reagent] * conversion_ratio, usage_stats, apm2)\n",
    "    return conversion_ratio, res"
   ]
  },
  {
   "cell_type": "markdown",
   "metadata": {},
   "source": [
    "### Example\n",
    "\n",
    "In this section I calculate what is required to build 3.75 (2 buildings) Super Computers per minute."
   ]
  },
  {
   "cell_type": "code",
   "execution_count": 8,
   "metadata": {},
   "outputs": [
    {
     "name": "stdout",
     "output_type": "stream",
     "text": [
      "2 buildings to create 3.75 'Super Computer' per minute.\n"
     ]
    }
   ],
   "source": [
    "item_type = \"Super Computer\"\n",
    "create = 1.875 * 2\n",
    "buildings, cost = calc_secondary_reagants(\"Super Computer\", recipes, create, use_ceil = False)\n",
    "buildings = math.ceil(buildings)\n",
    "print(f\"{buildings} buildings to create {create} '{item_type}' per minute.\")"
   ]
  },
  {
   "cell_type": "markdown",
   "metadata": {},
   "source": [
    "Use a dequeue to calculate the number and variety of products required to create the Super Computers."
   ]
  },
  {
   "cell_type": "code",
   "execution_count": 9,
   "metadata": {},
   "outputs": [],
   "source": [
    "queue = [cost]\n",
    "all_buildings = {item_type: {\"gross\": buildings * recipes[item_type][0], \"used\": create, \"buildings\": buildings}}\n",
    "while queue:\n",
    "    c = queue.pop(-1)\n",
    "    for reagent, usage_stats in c.items():\n",
    "        _, c2 = calc_secondary_reagants(reagent, recipes, usage_stats[\"used\"])\n",
    "        previous_usage_stats = all_buildings.get(reagent, {\"gross\": 0, \"used\": 0, \"buildings\": 0})\n",
    "        all_buildings[reagent] = add_used(usage_stats[\"used\"], previous_usage_stats, recipes[reagent][0])\n",
    "        if c2:\n",
    "            queue.append(c2)"
   ]
  },
  {
   "cell_type": "code",
   "execution_count": 10,
   "metadata": {
    "scrolled": true
   },
   "outputs": [
    {
     "data": {
      "text/plain": [
       "{'Super Computer': {'gross': 3.75, 'used': 3.75, 'buildings': 2},\n",
       " 'Plastic': {'gross': 292.5, 'used': 281.25, 'buildings': 13},\n",
       " 'High-Speed Connecter': {'gross': 12.5, 'used': 11.25, 'buildings': 5},\n",
       " 'A.I. Limiter': {'gross': 10.0, 'used': 7.5, 'buildings': 2},\n",
       " 'Computer': {'gross': 7.5, 'used': 7.5, 'buildings': 4},\n",
       " 'Cable': {'gross': 210.0, 'used': 202.5, 'buildings': 14},\n",
       " 'Screw': {'gross': 450.0, 'used': 450.0, 'buildings': 5},\n",
       " 'Circuit Board': {'gross': 45.0, 'used': 45.0, 'buildings': 6},\n",
       " 'Wire': {'gross': 765.0, 'used': 765.0, 'buildings': 17},\n",
       " 'Rubber': {'gross': 240.0, 'used': 240.0, 'buildings': 8},\n",
       " 'Copper Ingot': {'gross': 360.0, 'used': 352.5, 'buildings': 12},\n",
       " 'Iron Ingot': {'gross': 90.0, 'used': 75.0, 'buildings': 3},\n",
       " 'Quickwire': {'gross': 630.0, 'used': 585.0, 'buildings': 7},\n",
       " 'Caterium Ingot': {'gross': 60.0, 'used': 48.75, 'buildings': 4}}"
      ]
     },
     "execution_count": 10,
     "metadata": {},
     "output_type": "execute_result"
    }
   ],
   "source": [
    "all_buildings"
   ]
  },
  {
   "cell_type": "code",
   "execution_count": null,
   "metadata": {},
   "outputs": [],
   "source": []
  }
 ],
 "metadata": {
  "kernelspec": {
   "display_name": "Python 3",
   "language": "python",
   "name": "python3"
  },
  "language_info": {
   "codemirror_mode": {
    "name": "ipython",
    "version": 3
   },
   "file_extension": ".py",
   "mimetype": "text/x-python",
   "name": "python",
   "nbconvert_exporter": "python",
   "pygments_lexer": "ipython3",
   "version": "3.7.1"
  }
 },
 "nbformat": 4,
 "nbformat_minor": 2
}
